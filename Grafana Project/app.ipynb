{
 "cells": [
  {
   "cell_type": "code",
   "execution_count": 2,
   "metadata": {},
   "outputs": [
    {
     "name": "stdout",
     "output_type": "stream",
     "text": [
      "Requirement already satisfied: psycopg2-binary in /Users/sathvik/Desktop/.conda/lib/python3.11/site-packages (2.9.10)\n",
      "Collecting faker\n",
      "  Using cached Faker-33.1.0-py3-none-any.whl.metadata (15 kB)\n",
      "Requirement already satisfied: python-dateutil>=2.4 in /Users/sathvik/Desktop/.conda/lib/python3.11/site-packages (from faker) (2.9.0.post0)\n",
      "Requirement already satisfied: typing-extensions in /Users/sathvik/Desktop/.conda/lib/python3.11/site-packages (from faker) (4.12.2)\n",
      "Requirement already satisfied: six>=1.5 in /Users/sathvik/Desktop/.conda/lib/python3.11/site-packages (from python-dateutil>=2.4->faker) (1.16.0)\n",
      "Using cached Faker-33.1.0-py3-none-any.whl (1.9 MB)\n",
      "Installing collected packages: faker\n",
      "Successfully installed faker-33.1.0\n"
     ]
    }
   ],
   "source": [
    "! pip install psycopg2-binary\n",
    "import psycopg2\n",
    "import random\n",
    "from datetime import datetime\n",
    "import time\n",
    "import os\n",
    "! pip install faker\n",
    "from faker import Faker\n",
    "import pandas as pd"
   ]
  },
  {
   "cell_type": "code",
   "execution_count": 3,
   "metadata": {},
   "outputs": [],
   "source": [
    "def run_rules(df):\n",
    "   \n",
    "    df['rules_triggered'] = None\n",
    "    df['rules_explanation'] = None\n",
    "    df['decision'] = None\n",
    "\n",
    "    if df['amount'][0] >= 100 and df['account_blacklisted'][0]==False and df['trans_type'][0]=='Real_time_transaction':\n",
    "        df['rules_triggered'] = 'Rule1'\n",
    "        df['rules_explanation'] = 'User is trying to make a transaction of more than 100$'\n",
    "        df['decision'] = 'Rejected'\n",
    "\n",
    "    elif df['account_blacklisted'][0] ==  df['trans_type'][0]=='Real_time_transaction':\n",
    "        df['rules_triggered'] = 'Rule2'\n",
    "        df['rules_explanation'] = 'It is a blacklisted Card'\n",
    "        df['decision'] = 'Rejected'\n",
    "    elif df['trans_type'][0]!='Real_time_transaction':\n",
    "        df['rules_triggered'] = 'No Rules Triggered'\n",
    "        df['decision'] = 'Approved'        \n",
    "    else:\n",
    "         df['rules_triggered'] = 'No Rules Triggered'\n",
    "\n",
    "    dict_index = df.to_dict(orient='index')\n",
    "    dict_single_row = dict_index[list(dict_index.keys())[0]]\n",
    "\n",
    "    return dict_single_row"
   ]
  },
  {
   "cell_type": "code",
   "execution_count": 5,
   "metadata": {},
   "outputs": [],
   "source": [
    "fake = Faker()\n",
    "\n",
    "# Define the number of fake records to generate\n",
    "num_records = 10\n",
    "\n",
    "# List of merchant categories for random selection\n",
    "merchant_categories = [\n",
    "    \"Retail\", \"Electronics\", \"Clothing\", \"Groceries\", \"Pharmacy\", \n",
    "    \"Entertainment\", \"Dining\", \"Travel\", \"Utilities\", \"Healthcare\"\n",
    "]\n",
    "\n",
    "# List of card types for random selection\n",
    "card_types = {\n",
    "    \"visa\": \"visa\",\n",
    "    \"mastercard\": \"mastercard\"\n",
    "}"
   ]
  },
  {
   "cell_type": "code",
   "execution_count": null,
   "metadata": {},
   "outputs": [],
   "source": [
    "host = \"database-1.ctu6go2w29m4.us-east-1.rds.amazonaws.com\"\n",
    "port = 5432  # Default PostgreSQL port\n",
    "dbname = \"postgres\"\n",
    "user = \"postgres\"\n",
    "password = \"postgres\"\n",
    "conn = psycopg2.connect(\n",
    "        host=host,\n",
    "        port=port,\n",
    "        dbname=dbname,\n",
    "        user=user,\n",
    "        password=password)\n",
    "cur = conn.cursor()\n"
   ]
  },
  {
   "cell_type": "code",
   "execution_count": 8,
   "metadata": {},
   "outputs": [],
   "source": [
    "create_table_query = \"\"\"\n",
    "CREATE TABLE IF NOT EXISTS banking_data (\n",
    "    id SERIAL PRIMARY KEY,\n",
    "    timestamp TIMESTAMPTZ NOT NULL,\n",
    "    uniq_id UUID NOT NULL,\n",
    "    trans_type VARCHAR(50) NOT NULL,\n",
    "    amount DECIMAL(10, 2) NOT NULL,\n",
    "    amount_crr DECIMAL(10, 2) NOT NULL,\n",
    "    account_holder_name VARCHAR(100) NOT NULL,\n",
    "    card_presense VARCHAR(50) NOT NULL,\n",
    "    merchant_category VARCHAR(50) NOT NULL,\n",
    "    card_type VARCHAR(50) NOT NULL,\n",
    "    card_id VARCHAR(20) NOT NULL,\n",
    "    account_id UUID NOT NULL,\n",
    "    account_blacklisted BOOLEAN NOT NULL,\n",
    "    rules_triggered VARCHAR(100),\n",
    "    rules_explanation VARCHAR(100),\n",
    "    decision VARCHAR(100)\n",
    "    \n",
    ");\n",
    "\"\"\""
   ]
  },
  {
   "cell_type": "code",
   "execution_count": 10,
   "metadata": {},
   "outputs": [
    {
     "ename": "KeyboardInterrupt",
     "evalue": "",
     "output_type": "error",
     "traceback": [
      "\u001b[0;31m---------------------------------------------------------------------------\u001b[0m",
      "\u001b[0;31mKeyboardInterrupt\u001b[0m                         Traceback (most recent call last)",
      "Cell \u001b[0;32mIn[10], line 36\u001b[0m\n\u001b[1;32m     28\u001b[0m         cur\u001b[38;5;241m.\u001b[39mexecute(\u001b[38;5;124m\"\"\"\u001b[39m\n\u001b[1;32m     29\u001b[0m \u001b[38;5;124m        INSERT INTO banking_data (timestamp, uniq_id, trans_type, amount, amount_crr, account_holder_name, card_presense, merchant_category, card_type, card_id, account_id, account_blacklisted,rules_triggered,rules_explanation,decision) \u001b[39m\n\u001b[1;32m     30\u001b[0m \u001b[38;5;124m        VALUES (\u001b[39m\u001b[38;5;132;01m%s\u001b[39;00m\u001b[38;5;124m, \u001b[39m\u001b[38;5;132;01m%s\u001b[39;00m\u001b[38;5;124m, \u001b[39m\u001b[38;5;132;01m%s\u001b[39;00m\u001b[38;5;124m, \u001b[39m\u001b[38;5;132;01m%s\u001b[39;00m\u001b[38;5;124m, \u001b[39m\u001b[38;5;132;01m%s\u001b[39;00m\u001b[38;5;124m, \u001b[39m\u001b[38;5;132;01m%s\u001b[39;00m\u001b[38;5;124m, \u001b[39m\u001b[38;5;132;01m%s\u001b[39;00m\u001b[38;5;124m, \u001b[39m\u001b[38;5;132;01m%s\u001b[39;00m\u001b[38;5;124m, \u001b[39m\u001b[38;5;132;01m%s\u001b[39;00m\u001b[38;5;124m, \u001b[39m\u001b[38;5;132;01m%s\u001b[39;00m\u001b[38;5;124m, \u001b[39m\u001b[38;5;132;01m%s\u001b[39;00m\u001b[38;5;124m, \u001b[39m\u001b[38;5;132;01m%s\u001b[39;00m\u001b[38;5;124m,\u001b[39m\u001b[38;5;132;01m%s\u001b[39;00m\u001b[38;5;124m, \u001b[39m\u001b[38;5;132;01m%s\u001b[39;00m\u001b[38;5;124m, \u001b[39m\u001b[38;5;132;01m%s\u001b[39;00m\u001b[38;5;124m)\u001b[39m\u001b[38;5;124m\"\"\"\u001b[39m,\n\u001b[1;32m     31\u001b[0m                     (timestamp, record[\u001b[38;5;124m'\u001b[39m\u001b[38;5;124muniq_id\u001b[39m\u001b[38;5;124m'\u001b[39m], record[\u001b[38;5;124m'\u001b[39m\u001b[38;5;124mtrans_type\u001b[39m\u001b[38;5;124m'\u001b[39m], record[\u001b[38;5;124m'\u001b[39m\u001b[38;5;124mamount\u001b[39m\u001b[38;5;124m'\u001b[39m], record[\u001b[38;5;124m'\u001b[39m\u001b[38;5;124mamount_crr\u001b[39m\u001b[38;5;124m'\u001b[39m],\n\u001b[1;32m     32\u001b[0m                      record[\u001b[38;5;124m'\u001b[39m\u001b[38;5;124maccount_holder_name\u001b[39m\u001b[38;5;124m'\u001b[39m], record[\u001b[38;5;124m'\u001b[39m\u001b[38;5;124mcard_presense\u001b[39m\u001b[38;5;124m'\u001b[39m], record[\u001b[38;5;124m'\u001b[39m\u001b[38;5;124mmerchant_category\u001b[39m\u001b[38;5;124m'\u001b[39m],\n\u001b[1;32m     33\u001b[0m                      record[\u001b[38;5;124m'\u001b[39m\u001b[38;5;124mcard_type\u001b[39m\u001b[38;5;124m'\u001b[39m], record[\u001b[38;5;124m'\u001b[39m\u001b[38;5;124mcard_id\u001b[39m\u001b[38;5;124m'\u001b[39m], record[\u001b[38;5;124m'\u001b[39m\u001b[38;5;124maccount_id\u001b[39m\u001b[38;5;124m'\u001b[39m], record[\u001b[38;5;124m'\u001b[39m\u001b[38;5;124maccount_blacklisted\u001b[39m\u001b[38;5;124m'\u001b[39m],record[\u001b[38;5;124m'\u001b[39m\u001b[38;5;124mrules_triggered\u001b[39m\u001b[38;5;124m'\u001b[39m],record[\u001b[38;5;124m'\u001b[39m\u001b[38;5;124mrules_explanation\u001b[39m\u001b[38;5;124m'\u001b[39m],record[\u001b[38;5;124m'\u001b[39m\u001b[38;5;124mdecision\u001b[39m\u001b[38;5;124m'\u001b[39m]))\n\u001b[1;32m     34\u001b[0m         conn\u001b[38;5;241m.\u001b[39mcommit()\n\u001b[0;32m---> 36\u001b[0m     time\u001b[38;5;241m.\u001b[39msleep(\u001b[38;5;241m15\u001b[39m)  \u001b[38;5;66;03m# Adjust the sleep duration as needed, here it's set to 15 seconds\u001b[39;00m\n\u001b[1;32m     38\u001b[0m cur\u001b[38;5;241m.\u001b[39mclose()\n\u001b[1;32m     39\u001b[0m conn\u001b[38;5;241m.\u001b[39mclose()\n",
      "\u001b[0;31mKeyboardInterrupt\u001b[0m: "
     ]
    }
   ],
   "source": [
    "cur.execute(create_table_query)\n",
    "conn.commit()\n",
    "\n",
    "# Function to generate a single record\n",
    "def generate_record():\n",
    "    card_type = random.choice(list(card_types.keys()))\n",
    "    return {\n",
    "        \"uniq_id\": [fake.uuid4()],\n",
    "        \"trans_type\": [random.choice([\"Real_time_transaction\", \"settlements\", \"dispute\"])],\n",
    "        \"amount\": [round(random.uniform(10.0, 1000.0), 2)],\n",
    "        \"amount_crr\": [round(random.uniform(10.0, 1000.0), 2)],\n",
    "        \"account_holder_name\": [fake.name()],\n",
    "        \"card_presense\": [random.choice([\"Present\", \"Not Present\"])],\n",
    "        \"merchant_category\": [random.choice(merchant_categories)],\n",
    "        \"card_type\": [card_type],\n",
    "        \"card_id\": [fake.credit_card_number(card_type=card_types[card_type])],\n",
    "        \"account_id\": [fake.uuid4()],\n",
    "        \"account_blacklisted\": [random.choice([True, False])]\n",
    "    }\n",
    "\n",
    "while True:\n",
    "    timestamp = datetime.utcnow()\n",
    "    \n",
    "    for _ in range(num_records):\n",
    "        temp = generate_record()\n",
    "        df = pd.DataFrame(temp)\n",
    "        record = run_rules(df)\n",
    "        cur.execute(\"\"\"\n",
    "        INSERT INTO banking_data (timestamp, uniq_id, trans_type, amount, amount_crr, account_holder_name, card_presense, merchant_category, card_type, card_id, account_id, account_blacklisted,rules_triggered,rules_explanation,decision) \n",
    "        VALUES (%s, %s, %s, %s, %s, %s, %s, %s, %s, %s, %s, %s,%s, %s, %s)\"\"\",\n",
    "                    (timestamp, record['uniq_id'], record['trans_type'], record['amount'], record['amount_crr'],\n",
    "                     record['account_holder_name'], record['card_presense'], record['merchant_category'],\n",
    "                     record['card_type'], record['card_id'], record['account_id'], record['account_blacklisted'],record['rules_triggered'],record['rules_explanation'],record['decision']))\n",
    "        conn.commit()\n",
    "\n",
    "    time.sleep(15)  # Adjust the sleep duration as needed, here it's set to 15 seconds\n",
    "\n",
    "cur.close()\n",
    "conn.close()"
   ]
  }
 ],
 "metadata": {
  "kernelspec": {
   "display_name": "Python 3",
   "language": "python",
   "name": "python3"
  },
  "language_info": {
   "codemirror_mode": {
    "name": "ipython",
    "version": 3
   },
   "file_extension": ".py",
   "mimetype": "text/x-python",
   "name": "python",
   "nbconvert_exporter": "python",
   "pygments_lexer": "ipython3",
   "version": "3.11.10"
  }
 },
 "nbformat": 4,
 "nbformat_minor": 2
}
